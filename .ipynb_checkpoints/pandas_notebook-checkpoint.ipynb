{
 "cells": [
  {
   "cell_type": "code",
   "execution_count": 42,
   "id": "initial_id",
   "metadata": {
    "collapsed": true,
    "ExecuteTime": {
     "end_time": "2024-02-20T18:18:02.693064Z",
     "start_time": "2024-02-20T18:18:02.567755Z"
    }
   },
   "outputs": [
    {
     "name": "stderr",
     "output_type": "stream",
     "text": [
      "/var/folders/m3/wzjr402d7_l04qbtd4y50gv80000gn/T/ipykernel_2970/2035458946.py:1: DeprecationWarning: \n",
      "Pyarrow will become a required dependency of pandas in the next major release of pandas (pandas 3.0),\n",
      "(to allow more performant data types, such as the Arrow string type, and better interoperability with other libraries)\n",
      "but was not found to be installed on your system.\n",
      "If this would cause problems for you,\n",
      "please provide us feedback at https://github.com/pandas-dev/pandas/issues/54466\n",
      "        \n",
      "  import pandas as pd\n"
     ]
    }
   ],
   "source": [
    "import pandas as pd"
   ]
  },
  {
   "cell_type": "markdown",
   "source": [
    "# 1. Load the data"
   ],
   "metadata": {
    "collapsed": false
   },
   "id": "7ecb38c1a80d01d3"
  },
  {
   "cell_type": "code",
   "outputs": [],
   "source": [
    "df = pd.read_csv('students.csv')"
   ],
   "metadata": {
    "collapsed": false,
    "ExecuteTime": {
     "end_time": "2024-02-20T18:18:16.910476Z",
     "start_time": "2024-02-20T18:18:16.905491Z"
    }
   },
   "id": "2d156e424bd2ed50",
   "execution_count": 44
  },
  {
   "cell_type": "markdown",
   "source": [
    "# 2. Display the first 5 rows of the dataframe"
   ],
   "metadata": {
    "collapsed": false
   },
   "id": "d9d805e5b6eb7535"
  },
  {
   "cell_type": "code",
   "outputs": [
    {
     "data": {
      "text/plain": "   id first_name  last_name  birth_date  average_mark  \\\n0   0   Леопольд    Верхола  1999-03-12          31.0   \n1   1      Семен  Сиротенко  2001-02-02          22.0   \n2   2      Макар  Гаєвський  1999-02-25          89.0   \n3   3       Лесь    Лисенко  1998-03-15          98.0   \n4   4     Лариса  Гайдабура  2004-05-05          46.0   \n\n   count_of_lessons_absent  count_of_lessons_sick  gender        city  \n0                        8                      4    Male   Запоріжжя  \n1                        9                      0    Male     Помічна  \n2                       10                      4    Male      Ірпінь  \n3                        5                      4    Male     Лебедин  \n4                        0                      0  Female  Нова Одеса  ",
      "text/html": "<div>\n<style scoped>\n    .dataframe tbody tr th:only-of-type {\n        vertical-align: middle;\n    }\n\n    .dataframe tbody tr th {\n        vertical-align: top;\n    }\n\n    .dataframe thead th {\n        text-align: right;\n    }\n</style>\n<table border=\"1\" class=\"dataframe\">\n  <thead>\n    <tr style=\"text-align: right;\">\n      <th></th>\n      <th>id</th>\n      <th>first_name</th>\n      <th>last_name</th>\n      <th>birth_date</th>\n      <th>average_mark</th>\n      <th>count_of_lessons_absent</th>\n      <th>count_of_lessons_sick</th>\n      <th>gender</th>\n      <th>city</th>\n    </tr>\n  </thead>\n  <tbody>\n    <tr>\n      <th>0</th>\n      <td>0</td>\n      <td>Леопольд</td>\n      <td>Верхола</td>\n      <td>1999-03-12</td>\n      <td>31.0</td>\n      <td>8</td>\n      <td>4</td>\n      <td>Male</td>\n      <td>Запоріжжя</td>\n    </tr>\n    <tr>\n      <th>1</th>\n      <td>1</td>\n      <td>Семен</td>\n      <td>Сиротенко</td>\n      <td>2001-02-02</td>\n      <td>22.0</td>\n      <td>9</td>\n      <td>0</td>\n      <td>Male</td>\n      <td>Помічна</td>\n    </tr>\n    <tr>\n      <th>2</th>\n      <td>2</td>\n      <td>Макар</td>\n      <td>Гаєвський</td>\n      <td>1999-02-25</td>\n      <td>89.0</td>\n      <td>10</td>\n      <td>4</td>\n      <td>Male</td>\n      <td>Ірпінь</td>\n    </tr>\n    <tr>\n      <th>3</th>\n      <td>3</td>\n      <td>Лесь</td>\n      <td>Лисенко</td>\n      <td>1998-03-15</td>\n      <td>98.0</td>\n      <td>5</td>\n      <td>4</td>\n      <td>Male</td>\n      <td>Лебедин</td>\n    </tr>\n    <tr>\n      <th>4</th>\n      <td>4</td>\n      <td>Лариса</td>\n      <td>Гайдабура</td>\n      <td>2004-05-05</td>\n      <td>46.0</td>\n      <td>0</td>\n      <td>0</td>\n      <td>Female</td>\n      <td>Нова Одеса</td>\n    </tr>\n  </tbody>\n</table>\n</div>"
     },
     "execution_count": 45,
     "metadata": {},
     "output_type": "execute_result"
    }
   ],
   "source": [
    "df.head()"
   ],
   "metadata": {
    "collapsed": false,
    "ExecuteTime": {
     "end_time": "2024-02-20T18:18:18.525139Z",
     "start_time": "2024-02-20T18:18:18.472827Z"
    }
   },
   "id": "2396aeaed3c36a49",
   "execution_count": 45
  },
  {
   "cell_type": "markdown",
   "source": [
    "# 3. Set the 'id' column as the index of the dataframe"
   ],
   "metadata": {
    "collapsed": false
   },
   "id": "c4503688349e3f8b"
  },
  {
   "cell_type": "code",
   "outputs": [
    {
     "ename": "KeyError",
     "evalue": "\"None of ['id'] are in the columns\"",
     "output_type": "error",
     "traceback": [
      "\u001B[0;31m---------------------------------------------------------------------------\u001B[0m",
      "\u001B[0;31mKeyError\u001B[0m                                  Traceback (most recent call last)",
      "\u001B[0;32m/var/folders/m3/wzjr402d7_l04qbtd4y50gv80000gn/T/ipykernel_2970/3332770417.py\u001B[0m in \u001B[0;36m?\u001B[0;34m()\u001B[0m\n\u001B[0;32m----> 1\u001B[0;31m \u001B[0mdf\u001B[0m\u001B[0;34m.\u001B[0m\u001B[0mset_index\u001B[0m\u001B[0;34m(\u001B[0m\u001B[0;34m'id'\u001B[0m\u001B[0;34m,\u001B[0m \u001B[0minplace\u001B[0m\u001B[0;34m=\u001B[0m\u001B[0;32mTrue\u001B[0m\u001B[0;34m)\u001B[0m\u001B[0;34m\u001B[0m\u001B[0;34m\u001B[0m\u001B[0m\n\u001B[0m",
      "\u001B[0;32m~/venture/hillel-pandas-2/.venv/lib/python3.11/site-packages/pandas/core/frame.py\u001B[0m in \u001B[0;36m?\u001B[0;34m(self, keys, drop, append, inplace, verify_integrity)\u001B[0m\n\u001B[1;32m   6102\u001B[0m                     \u001B[0;32mif\u001B[0m \u001B[0;32mnot\u001B[0m \u001B[0mfound\u001B[0m\u001B[0;34m:\u001B[0m\u001B[0;34m\u001B[0m\u001B[0;34m\u001B[0m\u001B[0m\n\u001B[1;32m   6103\u001B[0m                         \u001B[0mmissing\u001B[0m\u001B[0;34m.\u001B[0m\u001B[0mappend\u001B[0m\u001B[0;34m(\u001B[0m\u001B[0mcol\u001B[0m\u001B[0;34m)\u001B[0m\u001B[0;34m\u001B[0m\u001B[0;34m\u001B[0m\u001B[0m\n\u001B[1;32m   6104\u001B[0m \u001B[0;34m\u001B[0m\u001B[0m\n\u001B[1;32m   6105\u001B[0m         \u001B[0;32mif\u001B[0m \u001B[0mmissing\u001B[0m\u001B[0;34m:\u001B[0m\u001B[0;34m\u001B[0m\u001B[0;34m\u001B[0m\u001B[0m\n\u001B[0;32m-> 6106\u001B[0;31m             \u001B[0;32mraise\u001B[0m \u001B[0mKeyError\u001B[0m\u001B[0;34m(\u001B[0m\u001B[0;34mf\"None of {missing} are in the columns\"\u001B[0m\u001B[0;34m)\u001B[0m\u001B[0;34m\u001B[0m\u001B[0;34m\u001B[0m\u001B[0m\n\u001B[0m\u001B[1;32m   6107\u001B[0m \u001B[0;34m\u001B[0m\u001B[0m\n\u001B[1;32m   6108\u001B[0m         \u001B[0;32mif\u001B[0m \u001B[0minplace\u001B[0m\u001B[0;34m:\u001B[0m\u001B[0;34m\u001B[0m\u001B[0;34m\u001B[0m\u001B[0m\n\u001B[1;32m   6109\u001B[0m             \u001B[0mframe\u001B[0m \u001B[0;34m=\u001B[0m \u001B[0mself\u001B[0m\u001B[0;34m\u001B[0m\u001B[0;34m\u001B[0m\u001B[0m\n",
      "\u001B[0;31mKeyError\u001B[0m: \"None of ['id'] are in the columns\""
     ]
    }
   ],
   "source": [
    "df.set_index('id', inplace=True)"
   ],
   "metadata": {
    "collapsed": false,
    "ExecuteTime": {
     "end_time": "2024-02-20T18:19:32.844871Z",
     "start_time": "2024-02-20T18:19:32.828261Z"
    }
   },
   "id": "fe7623a70d99a0ef",
   "execution_count": 47
  },
  {
   "cell_type": "code",
   "outputs": [
    {
     "data": {
      "text/plain": "   first_name  last_name  birth_date  average_mark  count_of_lessons_absent  \\\nid                                                                            \n0    Леопольд    Верхола  1999-03-12          31.0                        8   \n1       Семен  Сиротенко  2001-02-02          22.0                        9   \n2       Макар  Гаєвський  1999-02-25          89.0                       10   \n3        Лесь    Лисенко  1998-03-15          98.0                        5   \n4      Лариса  Гайдабура  2004-05-05          46.0                        0   \n\n    count_of_lessons_sick  gender        city  \nid                                             \n0                       4    Male   Запоріжжя  \n1                       0    Male     Помічна  \n2                       4    Male      Ірпінь  \n3                       4    Male     Лебедин  \n4                       0  Female  Нова Одеса  ",
      "text/html": "<div>\n<style scoped>\n    .dataframe tbody tr th:only-of-type {\n        vertical-align: middle;\n    }\n\n    .dataframe tbody tr th {\n        vertical-align: top;\n    }\n\n    .dataframe thead th {\n        text-align: right;\n    }\n</style>\n<table border=\"1\" class=\"dataframe\">\n  <thead>\n    <tr style=\"text-align: right;\">\n      <th></th>\n      <th>first_name</th>\n      <th>last_name</th>\n      <th>birth_date</th>\n      <th>average_mark</th>\n      <th>count_of_lessons_absent</th>\n      <th>count_of_lessons_sick</th>\n      <th>gender</th>\n      <th>city</th>\n    </tr>\n    <tr>\n      <th>id</th>\n      <th></th>\n      <th></th>\n      <th></th>\n      <th></th>\n      <th></th>\n      <th></th>\n      <th></th>\n      <th></th>\n    </tr>\n  </thead>\n  <tbody>\n    <tr>\n      <th>0</th>\n      <td>Леопольд</td>\n      <td>Верхола</td>\n      <td>1999-03-12</td>\n      <td>31.0</td>\n      <td>8</td>\n      <td>4</td>\n      <td>Male</td>\n      <td>Запоріжжя</td>\n    </tr>\n    <tr>\n      <th>1</th>\n      <td>Семен</td>\n      <td>Сиротенко</td>\n      <td>2001-02-02</td>\n      <td>22.0</td>\n      <td>9</td>\n      <td>0</td>\n      <td>Male</td>\n      <td>Помічна</td>\n    </tr>\n    <tr>\n      <th>2</th>\n      <td>Макар</td>\n      <td>Гаєвський</td>\n      <td>1999-02-25</td>\n      <td>89.0</td>\n      <td>10</td>\n      <td>4</td>\n      <td>Male</td>\n      <td>Ірпінь</td>\n    </tr>\n    <tr>\n      <th>3</th>\n      <td>Лесь</td>\n      <td>Лисенко</td>\n      <td>1998-03-15</td>\n      <td>98.0</td>\n      <td>5</td>\n      <td>4</td>\n      <td>Male</td>\n      <td>Лебедин</td>\n    </tr>\n    <tr>\n      <th>4</th>\n      <td>Лариса</td>\n      <td>Гайдабура</td>\n      <td>2004-05-05</td>\n      <td>46.0</td>\n      <td>0</td>\n      <td>0</td>\n      <td>Female</td>\n      <td>Нова Одеса</td>\n    </tr>\n  </tbody>\n</table>\n</div>"
     },
     "execution_count": 48,
     "metadata": {},
     "output_type": "execute_result"
    }
   ],
   "source": [
    "df.head()"
   ],
   "metadata": {
    "collapsed": false,
    "ExecuteTime": {
     "end_time": "2024-02-20T18:19:33.910275Z",
     "start_time": "2024-02-20T18:19:33.905040Z"
    }
   },
   "id": "454eaae08ae153c4",
   "execution_count": 48
  },
  {
   "cell_type": "code",
   "outputs": [],
   "source": [],
   "metadata": {
    "collapsed": false
   },
   "id": "5dda5c7bb3fe1898"
  },
  {
   "cell_type": "markdown",
   "source": [
    "# 4. Remove rows without an `average_mark` value"
   ],
   "metadata": {
    "collapsed": false
   },
   "id": "dda7ec70639e19c"
  },
  {
   "cell_type": "code",
   "outputs": [],
   "source": [
    "df.dropna(subset=['average_mark'], inplace=True)"
   ],
   "metadata": {
    "collapsed": false,
    "ExecuteTime": {
     "end_time": "2024-02-20T18:21:03.338943Z",
     "start_time": "2024-02-20T18:21:03.331701Z"
    }
   },
   "id": "ea8ce51cc5cffac5",
   "execution_count": 49
  },
  {
   "cell_type": "code",
   "outputs": [],
   "source": [],
   "metadata": {
    "collapsed": false,
    "ExecuteTime": {
     "end_time": "2024-02-20T18:21:06.228453Z",
     "start_time": "2024-02-20T18:21:06.221948Z"
    }
   },
   "id": "d31f219a560cb3e",
   "execution_count": 49
  },
  {
   "cell_type": "code",
   "outputs": [
    {
     "data": {
      "text/plain": "   first_name  last_name  birth_date  average_mark  count_of_lessons_absent  \\\nid                                                                            \n0    Леопольд    Верхола  1999-03-12          31.0                        8   \n1       Семен  Сиротенко  2001-02-02          22.0                        9   \n2       Макар  Гаєвський  1999-02-25          89.0                       10   \n3        Лесь    Лисенко  1998-03-15          98.0                        5   \n4      Лариса  Гайдабура  2004-05-05          46.0                        0   \n\n    count_of_lessons_sick  gender        city  \nid                                             \n0                       4    Male   Запоріжжя  \n1                       0    Male     Помічна  \n2                       4    Male      Ірпінь  \n3                       4    Male     Лебедин  \n4                       0  Female  Нова Одеса  ",
      "text/html": "<div>\n<style scoped>\n    .dataframe tbody tr th:only-of-type {\n        vertical-align: middle;\n    }\n\n    .dataframe tbody tr th {\n        vertical-align: top;\n    }\n\n    .dataframe thead th {\n        text-align: right;\n    }\n</style>\n<table border=\"1\" class=\"dataframe\">\n  <thead>\n    <tr style=\"text-align: right;\">\n      <th></th>\n      <th>first_name</th>\n      <th>last_name</th>\n      <th>birth_date</th>\n      <th>average_mark</th>\n      <th>count_of_lessons_absent</th>\n      <th>count_of_lessons_sick</th>\n      <th>gender</th>\n      <th>city</th>\n    </tr>\n    <tr>\n      <th>id</th>\n      <th></th>\n      <th></th>\n      <th></th>\n      <th></th>\n      <th></th>\n      <th></th>\n      <th></th>\n      <th></th>\n    </tr>\n  </thead>\n  <tbody>\n    <tr>\n      <th>0</th>\n      <td>Леопольд</td>\n      <td>Верхола</td>\n      <td>1999-03-12</td>\n      <td>31.0</td>\n      <td>8</td>\n      <td>4</td>\n      <td>Male</td>\n      <td>Запоріжжя</td>\n    </tr>\n    <tr>\n      <th>1</th>\n      <td>Семен</td>\n      <td>Сиротенко</td>\n      <td>2001-02-02</td>\n      <td>22.0</td>\n      <td>9</td>\n      <td>0</td>\n      <td>Male</td>\n      <td>Помічна</td>\n    </tr>\n    <tr>\n      <th>2</th>\n      <td>Макар</td>\n      <td>Гаєвський</td>\n      <td>1999-02-25</td>\n      <td>89.0</td>\n      <td>10</td>\n      <td>4</td>\n      <td>Male</td>\n      <td>Ірпінь</td>\n    </tr>\n    <tr>\n      <th>3</th>\n      <td>Лесь</td>\n      <td>Лисенко</td>\n      <td>1998-03-15</td>\n      <td>98.0</td>\n      <td>5</td>\n      <td>4</td>\n      <td>Male</td>\n      <td>Лебедин</td>\n    </tr>\n    <tr>\n      <th>4</th>\n      <td>Лариса</td>\n      <td>Гайдабура</td>\n      <td>2004-05-05</td>\n      <td>46.0</td>\n      <td>0</td>\n      <td>0</td>\n      <td>Female</td>\n      <td>Нова Одеса</td>\n    </tr>\n  </tbody>\n</table>\n</div>"
     },
     "execution_count": 50,
     "metadata": {},
     "output_type": "execute_result"
    }
   ],
   "source": [
    "df.head()"
   ],
   "metadata": {
    "collapsed": false,
    "ExecuteTime": {
     "end_time": "2024-02-20T18:21:09.505024Z",
     "start_time": "2024-02-20T18:21:09.501138Z"
    }
   },
   "id": "82012c0807e7e429",
   "execution_count": 50
  },
  {
   "cell_type": "markdown",
   "source": [
    "# 5. Display an average mark of students"
   ],
   "metadata": {
    "collapsed": false
   },
   "id": "954cae17e2b4944d"
  },
  {
   "cell_type": "code",
   "outputs": [
    {
     "data": {
      "text/plain": "50.71515151515152"
     },
     "execution_count": 51,
     "metadata": {},
     "output_type": "execute_result"
    }
   ],
   "source": [
    "df['average_mark'].mean()"
   ],
   "metadata": {
    "collapsed": false,
    "ExecuteTime": {
     "end_time": "2024-02-20T18:21:49.849992Z",
     "start_time": "2024-02-20T18:21:49.844430Z"
    }
   },
   "id": "11bee577d91644c9",
   "execution_count": 51
  },
  {
   "cell_type": "code",
   "outputs": [
    {
     "data": {
      "text/plain": "       average_mark  count_of_lessons_absent  count_of_lessons_sick\ncount    990.000000               990.000000             990.000000\nmean      50.715152                 5.058586               2.592929\nstd       28.863538                 3.153409               2.577210\nmin        1.000000                 0.000000               0.000000\n25%       26.250000                 2.000000               0.000000\n50%       50.000000                 5.000000               2.000000\n75%       76.750000                 8.000000               4.000000\nmax      100.000000                10.000000              10.000000",
      "text/html": "<div>\n<style scoped>\n    .dataframe tbody tr th:only-of-type {\n        vertical-align: middle;\n    }\n\n    .dataframe tbody tr th {\n        vertical-align: top;\n    }\n\n    .dataframe thead th {\n        text-align: right;\n    }\n</style>\n<table border=\"1\" class=\"dataframe\">\n  <thead>\n    <tr style=\"text-align: right;\">\n      <th></th>\n      <th>average_mark</th>\n      <th>count_of_lessons_absent</th>\n      <th>count_of_lessons_sick</th>\n    </tr>\n  </thead>\n  <tbody>\n    <tr>\n      <th>count</th>\n      <td>990.000000</td>\n      <td>990.000000</td>\n      <td>990.000000</td>\n    </tr>\n    <tr>\n      <th>mean</th>\n      <td>50.715152</td>\n      <td>5.058586</td>\n      <td>2.592929</td>\n    </tr>\n    <tr>\n      <th>std</th>\n      <td>28.863538</td>\n      <td>3.153409</td>\n      <td>2.577210</td>\n    </tr>\n    <tr>\n      <th>min</th>\n      <td>1.000000</td>\n      <td>0.000000</td>\n      <td>0.000000</td>\n    </tr>\n    <tr>\n      <th>25%</th>\n      <td>26.250000</td>\n      <td>2.000000</td>\n      <td>0.000000</td>\n    </tr>\n    <tr>\n      <th>50%</th>\n      <td>50.000000</td>\n      <td>5.000000</td>\n      <td>2.000000</td>\n    </tr>\n    <tr>\n      <th>75%</th>\n      <td>76.750000</td>\n      <td>8.000000</td>\n      <td>4.000000</td>\n    </tr>\n    <tr>\n      <th>max</th>\n      <td>100.000000</td>\n      <td>10.000000</td>\n      <td>10.000000</td>\n    </tr>\n  </tbody>\n</table>\n</div>"
     },
     "execution_count": 52,
     "metadata": {},
     "output_type": "execute_result"
    }
   ],
   "source": [
    "df.describe()"
   ],
   "metadata": {
    "collapsed": false,
    "ExecuteTime": {
     "end_time": "2024-02-20T18:22:55.677221Z",
     "start_time": "2024-02-20T18:22:55.671103Z"
    }
   },
   "id": "2a60b25328896b68",
   "execution_count": 52
  },
  {
   "cell_type": "code",
   "outputs": [],
   "source": [],
   "metadata": {
    "collapsed": false
   },
   "id": "83ef1c1725be96ed"
  },
  {
   "cell_type": "markdown",
   "source": [
    "# 6. Display an average age from `birth_date`"
   ],
   "metadata": {
    "collapsed": false
   },
   "id": "fbddc7485e2f1f30"
  },
  {
   "cell_type": "code",
   "outputs": [],
   "source": [
    "df['birth_date'] = pd.to_datetime(df['birth_date'])\n",
    "df['age'] = (pd.to_datetime('today') - df['birth_date']).map(lambda value: value.total_seconds() / (60*60*24*365))"
   ],
   "metadata": {
    "collapsed": false,
    "ExecuteTime": {
     "end_time": "2024-02-20T18:26:39.103944Z",
     "start_time": "2024-02-20T18:26:39.101629Z"
    }
   },
   "id": "ee2526f453754a10",
   "execution_count": 55
  },
  {
   "cell_type": "code",
   "outputs": [
    {
     "data": {
      "text/plain": "   first_name  last_name birth_date  average_mark  count_of_lessons_absent  \\\nid                                                                           \n0    Леопольд    Верхола 1999-03-12          31.0                        8   \n1       Семен  Сиротенко 2001-02-02          22.0                        9   \n2       Макар  Гаєвський 1999-02-25          89.0                       10   \n3        Лесь    Лисенко 1998-03-15          98.0                        5   \n4      Лариса  Гайдабура 2004-05-05          46.0                        0   \n\n    count_of_lessons_sick  gender        city        age  \nid                                                        \n0                       4    Male   Запоріжжя  24.963978  \n1                       0    Male     Помічна  23.065348  \n2                       4    Male      Ірпінь  25.005074  \n3                       4    Male     Лебедин  25.955758  \n4                       0  Female  Нова Одеса  19.810553  ",
      "text/html": "<div>\n<style scoped>\n    .dataframe tbody tr th:only-of-type {\n        vertical-align: middle;\n    }\n\n    .dataframe tbody tr th {\n        vertical-align: top;\n    }\n\n    .dataframe thead th {\n        text-align: right;\n    }\n</style>\n<table border=\"1\" class=\"dataframe\">\n  <thead>\n    <tr style=\"text-align: right;\">\n      <th></th>\n      <th>first_name</th>\n      <th>last_name</th>\n      <th>birth_date</th>\n      <th>average_mark</th>\n      <th>count_of_lessons_absent</th>\n      <th>count_of_lessons_sick</th>\n      <th>gender</th>\n      <th>city</th>\n      <th>age</th>\n    </tr>\n    <tr>\n      <th>id</th>\n      <th></th>\n      <th></th>\n      <th></th>\n      <th></th>\n      <th></th>\n      <th></th>\n      <th></th>\n      <th></th>\n      <th></th>\n    </tr>\n  </thead>\n  <tbody>\n    <tr>\n      <th>0</th>\n      <td>Леопольд</td>\n      <td>Верхола</td>\n      <td>1999-03-12</td>\n      <td>31.0</td>\n      <td>8</td>\n      <td>4</td>\n      <td>Male</td>\n      <td>Запоріжжя</td>\n      <td>24.963978</td>\n    </tr>\n    <tr>\n      <th>1</th>\n      <td>Семен</td>\n      <td>Сиротенко</td>\n      <td>2001-02-02</td>\n      <td>22.0</td>\n      <td>9</td>\n      <td>0</td>\n      <td>Male</td>\n      <td>Помічна</td>\n      <td>23.065348</td>\n    </tr>\n    <tr>\n      <th>2</th>\n      <td>Макар</td>\n      <td>Гаєвський</td>\n      <td>1999-02-25</td>\n      <td>89.0</td>\n      <td>10</td>\n      <td>4</td>\n      <td>Male</td>\n      <td>Ірпінь</td>\n      <td>25.005074</td>\n    </tr>\n    <tr>\n      <th>3</th>\n      <td>Лесь</td>\n      <td>Лисенко</td>\n      <td>1998-03-15</td>\n      <td>98.0</td>\n      <td>5</td>\n      <td>4</td>\n      <td>Male</td>\n      <td>Лебедин</td>\n      <td>25.955758</td>\n    </tr>\n    <tr>\n      <th>4</th>\n      <td>Лариса</td>\n      <td>Гайдабура</td>\n      <td>2004-05-05</td>\n      <td>46.0</td>\n      <td>0</td>\n      <td>0</td>\n      <td>Female</td>\n      <td>Нова Одеса</td>\n      <td>19.810553</td>\n    </tr>\n  </tbody>\n</table>\n</div>"
     },
     "execution_count": 56,
     "metadata": {},
     "output_type": "execute_result"
    }
   ],
   "source": [
    "df.head()"
   ],
   "metadata": {
    "collapsed": false,
    "ExecuteTime": {
     "end_time": "2024-02-20T18:26:48.241160Z",
     "start_time": "2024-02-20T18:26:48.236408Z"
    }
   },
   "id": "64d36dae9f6e683c",
   "execution_count": 56
  },
  {
   "cell_type": "code",
   "outputs": [
    {
     "data": {
      "text/plain": "22.997634766813068"
     },
     "execution_count": 57,
     "metadata": {},
     "output_type": "execute_result"
    }
   ],
   "source": [
    "average_age = df['age'].mean()\n",
    "average_age"
   ],
   "metadata": {
    "collapsed": false,
    "ExecuteTime": {
     "end_time": "2024-02-20T18:27:26.422854Z",
     "start_time": "2024-02-20T18:27:26.415363Z"
    }
   },
   "id": "29c76f81b5e1098c",
   "execution_count": 57
  },
  {
   "cell_type": "code",
   "outputs": [],
   "source": [],
   "metadata": {
    "collapsed": false
   },
   "id": "9be3b72d6af23e19"
  },
  {
   "cell_type": "markdown",
   "source": [
    "# 7. Display average mark per gender"
   ],
   "metadata": {
    "collapsed": false
   },
   "id": "8c0df5ee8ba8354f"
  },
  {
   "cell_type": "code",
   "outputs": [
    {
     "data": {
      "text/plain": "gender\nFemale    50.256842\nMale      51.137864\nName: average_mark, dtype: float64"
     },
     "execution_count": 67,
     "metadata": {},
     "output_type": "execute_result"
    }
   ],
   "source": [
    "df.groupby(\"gender\")['average_mark'].mean()"
   ],
   "metadata": {
    "collapsed": false,
    "ExecuteTime": {
     "end_time": "2024-02-20T18:30:15.545981Z",
     "start_time": "2024-02-20T18:30:15.542273Z"
    }
   },
   "id": "cf77fb133129703a",
   "execution_count": 67
  },
  {
   "cell_type": "code",
   "outputs": [],
   "source": [],
   "metadata": {
    "collapsed": false
   },
   "id": "68feb2f16f0b4feb"
  },
  {
   "cell_type": "markdown",
   "source": [
    "# 8. Display the youngest student"
   ],
   "metadata": {
    "collapsed": false
   },
   "id": "cd542e23d0efa82f"
  },
  {
   "cell_type": "code",
   "outputs": [
    {
     "data": {
      "text/plain": "    first_name last_name birth_date  average_mark  count_of_lessons_absent  \\\nid                                                                           \n946      Олена   Дробаха 2009-01-23          18.0                        3   \n\n     count_of_lessons_sick  gender       city        age  \nid                                                        \n946                      3  Female  Мостиська  15.087265  ",
      "text/html": "<div>\n<style scoped>\n    .dataframe tbody tr th:only-of-type {\n        vertical-align: middle;\n    }\n\n    .dataframe tbody tr th {\n        vertical-align: top;\n    }\n\n    .dataframe thead th {\n        text-align: right;\n    }\n</style>\n<table border=\"1\" class=\"dataframe\">\n  <thead>\n    <tr style=\"text-align: right;\">\n      <th></th>\n      <th>first_name</th>\n      <th>last_name</th>\n      <th>birth_date</th>\n      <th>average_mark</th>\n      <th>count_of_lessons_absent</th>\n      <th>count_of_lessons_sick</th>\n      <th>gender</th>\n      <th>city</th>\n      <th>age</th>\n    </tr>\n    <tr>\n      <th>id</th>\n      <th></th>\n      <th></th>\n      <th></th>\n      <th></th>\n      <th></th>\n      <th></th>\n      <th></th>\n      <th></th>\n      <th></th>\n    </tr>\n  </thead>\n  <tbody>\n    <tr>\n      <th>946</th>\n      <td>Олена</td>\n      <td>Дробаха</td>\n      <td>2009-01-23</td>\n      <td>18.0</td>\n      <td>3</td>\n      <td>3</td>\n      <td>Female</td>\n      <td>Мостиська</td>\n      <td>15.087265</td>\n    </tr>\n  </tbody>\n</table>\n</div>"
     },
     "execution_count": 68,
     "metadata": {},
     "output_type": "execute_result"
    }
   ],
   "source": [
    "df[df['age'] == df['age'].min()]"
   ],
   "metadata": {
    "collapsed": false,
    "ExecuteTime": {
     "end_time": "2024-02-20T18:31:01.605342Z",
     "start_time": "2024-02-20T18:31:01.599659Z"
    }
   },
   "id": "a2e9be2644223467",
   "execution_count": 68
  },
  {
   "cell_type": "code",
   "outputs": [
    {
     "data": {
      "text/plain": "    first_name last_name birth_date  average_mark  count_of_lessons_absent  \\\nid                                                                           \n946      Олена   Дробаха 2009-01-23          18.0                        3   \n\n     count_of_lessons_sick  gender       city        age  \nid                                                        \n946                      3  Female  Мостиська  15.087265  ",
      "text/html": "<div>\n<style scoped>\n    .dataframe tbody tr th:only-of-type {\n        vertical-align: middle;\n    }\n\n    .dataframe tbody tr th {\n        vertical-align: top;\n    }\n\n    .dataframe thead th {\n        text-align: right;\n    }\n</style>\n<table border=\"1\" class=\"dataframe\">\n  <thead>\n    <tr style=\"text-align: right;\">\n      <th></th>\n      <th>first_name</th>\n      <th>last_name</th>\n      <th>birth_date</th>\n      <th>average_mark</th>\n      <th>count_of_lessons_absent</th>\n      <th>count_of_lessons_sick</th>\n      <th>gender</th>\n      <th>city</th>\n      <th>age</th>\n    </tr>\n    <tr>\n      <th>id</th>\n      <th></th>\n      <th></th>\n      <th></th>\n      <th></th>\n      <th></th>\n      <th></th>\n      <th></th>\n      <th></th>\n      <th></th>\n    </tr>\n  </thead>\n  <tbody>\n    <tr>\n      <th>946</th>\n      <td>Олена</td>\n      <td>Дробаха</td>\n      <td>2009-01-23</td>\n      <td>18.0</td>\n      <td>3</td>\n      <td>3</td>\n      <td>Female</td>\n      <td>Мостиська</td>\n      <td>15.087265</td>\n    </tr>\n  </tbody>\n</table>\n</div>"
     },
     "execution_count": 69,
     "metadata": {},
     "output_type": "execute_result"
    }
   ],
   "source": [
    "df.sort_values('age').head(1)"
   ],
   "metadata": {
    "collapsed": false,
    "ExecuteTime": {
     "end_time": "2024-02-20T18:31:15.737436Z",
     "start_time": "2024-02-20T18:31:15.727512Z"
    }
   },
   "id": "8fdf0ab0275340e5",
   "execution_count": 69
  },
  {
   "cell_type": "code",
   "outputs": [
    {
     "data": {
      "text/plain": "    first_name last_name birth_date  average_mark  count_of_lessons_absent  \\\nid                                                                           \n946      Олена   Дробаха 2009-01-23          18.0                        3   \n\n     count_of_lessons_sick  gender       city        age  \nid                                                        \n946                      3  Female  Мостиська  15.087265  ",
      "text/html": "<div>\n<style scoped>\n    .dataframe tbody tr th:only-of-type {\n        vertical-align: middle;\n    }\n\n    .dataframe tbody tr th {\n        vertical-align: top;\n    }\n\n    .dataframe thead th {\n        text-align: right;\n    }\n</style>\n<table border=\"1\" class=\"dataframe\">\n  <thead>\n    <tr style=\"text-align: right;\">\n      <th></th>\n      <th>first_name</th>\n      <th>last_name</th>\n      <th>birth_date</th>\n      <th>average_mark</th>\n      <th>count_of_lessons_absent</th>\n      <th>count_of_lessons_sick</th>\n      <th>gender</th>\n      <th>city</th>\n      <th>age</th>\n    </tr>\n    <tr>\n      <th>id</th>\n      <th></th>\n      <th></th>\n      <th></th>\n      <th></th>\n      <th></th>\n      <th></th>\n      <th></th>\n      <th></th>\n      <th></th>\n    </tr>\n  </thead>\n  <tbody>\n    <tr>\n      <th>946</th>\n      <td>Олена</td>\n      <td>Дробаха</td>\n      <td>2009-01-23</td>\n      <td>18.0</td>\n      <td>3</td>\n      <td>3</td>\n      <td>Female</td>\n      <td>Мостиська</td>\n      <td>15.087265</td>\n    </tr>\n  </tbody>\n</table>\n</div>"
     },
     "execution_count": 70,
     "metadata": {},
     "output_type": "execute_result"
    }
   ],
   "source": [
    "df.nsmallest(1, 'age')"
   ],
   "metadata": {
    "collapsed": false,
    "ExecuteTime": {
     "end_time": "2024-02-20T18:31:22.958806Z",
     "start_time": "2024-02-20T18:31:22.952578Z"
    }
   },
   "id": "6181429c9bff3c42",
   "execution_count": 70
  },
  {
   "cell_type": "code",
   "outputs": [
    {
     "data": {
      "text/plain": "first_name                               Олена\nlast_name                              Дробаха\nbirth_date                 2009-01-23 00:00:00\naverage_mark                              18.0\ncount_of_lessons_absent                      3\ncount_of_lessons_sick                        3\ngender                                  Female\ncity                                 Мостиська\nage                                  15.087265\nName: 946, dtype: object"
     },
     "execution_count": 71,
     "metadata": {},
     "output_type": "execute_result"
    }
   ],
   "source": [
    "df.loc[df['age'].idxmin()]"
   ],
   "metadata": {
    "collapsed": false,
    "ExecuteTime": {
     "end_time": "2024-02-20T18:31:29.641379Z",
     "start_time": "2024-02-20T18:31:29.628034Z"
    }
   },
   "id": "7807d92cdcf0110",
   "execution_count": 71
  },
  {
   "cell_type": "code",
   "outputs": [],
   "source": [],
   "metadata": {
    "collapsed": false
   },
   "id": "e244e40d0ab6b234"
  },
  {
   "cell_type": "markdown",
   "source": [
    "# 9. Series is either df row or df column"
   ],
   "metadata": {
    "collapsed": false
   },
   "id": "6019f6db7d25c33"
  },
  {
   "cell_type": "code",
   "outputs": [
    {
     "data": {
      "text/plain": "id\n0      31.0\n1      22.0\n2      89.0\n3      98.0\n4      46.0\n       ... \n995    34.0\n996    37.0\n997    58.0\n998    92.0\n999    63.0\nName: average_mark, Length: 990, dtype: float64"
     },
     "execution_count": 72,
     "metadata": {},
     "output_type": "execute_result"
    }
   ],
   "source": [
    "df['average_mark']"
   ],
   "metadata": {
    "collapsed": false,
    "ExecuteTime": {
     "end_time": "2024-02-20T18:32:06.212249Z",
     "start_time": "2024-02-20T18:32:06.205032Z"
    }
   },
   "id": "43796bfc354cdee1",
   "execution_count": 72
  },
  {
   "cell_type": "code",
   "outputs": [
    {
     "data": {
      "text/plain": "first_name                            Леопольд\nlast_name                              Верхола\nbirth_date                 1999-03-12 00:00:00\naverage_mark                              31.0\ncount_of_lessons_absent                      8\ncount_of_lessons_sick                        4\ngender                                    Male\ncity                                 Запоріжжя\nage                                  24.963978\nName: 0, dtype: object"
     },
     "execution_count": 73,
     "metadata": {},
     "output_type": "execute_result"
    }
   ],
   "source": [
    "df.iloc[0]"
   ],
   "metadata": {
    "collapsed": false,
    "ExecuteTime": {
     "end_time": "2024-02-20T18:32:27.341909Z",
     "start_time": "2024-02-20T18:32:27.334051Z"
    }
   },
   "id": "c9d287c1acc436b3",
   "execution_count": 73
  },
  {
   "cell_type": "code",
   "outputs": [],
   "source": [],
   "metadata": {
    "collapsed": false
   },
   "id": "9dd3727bcee77e63"
  },
  {
   "cell_type": "markdown",
   "source": [
    "# 10. Display all possible means of the dataframe"
   ],
   "metadata": {
    "collapsed": false
   },
   "id": "4cb14ce0ecbb3304"
  },
  {
   "cell_type": "code",
   "outputs": [
    {
     "data": {
      "text/plain": "average_mark               50.715152\ncount_of_lessons_absent     5.058586\ncount_of_lessons_sick       2.592929\ndtype: float64"
     },
     "execution_count": 76,
     "metadata": {},
     "output_type": "execute_result"
    }
   ],
   "source": [
    "df[['average_mark', 'count_of_lessons_absent', 'count_of_lessons_sick']].mean()"
   ],
   "metadata": {
    "collapsed": false,
    "ExecuteTime": {
     "end_time": "2024-02-20T18:34:26.970356Z",
     "start_time": "2024-02-20T18:34:26.958337Z"
    }
   },
   "id": "510fdb54f19fdcde",
   "execution_count": 76
  },
  {
   "cell_type": "code",
   "outputs": [],
   "source": [],
   "metadata": {
    "collapsed": false
   },
   "id": "19b676be6eb55809"
  },
  {
   "cell_type": "code",
   "outputs": [],
   "source": [],
   "metadata": {
    "collapsed": false
   },
   "id": "4ec297731e699f39"
  },
  {
   "cell_type": "markdown",
   "source": [
    "# 11. Display all possible values of 'city' column"
   ],
   "metadata": {
    "collapsed": false
   },
   "id": "d660432aea7bf618"
  },
  {
   "cell_type": "code",
   "outputs": [
    {
     "data": {
      "text/plain": "array(['Запоріжжя', 'Помічна', 'Ірпінь', 'Лебедин', 'Нова Одеса', 'Рудки',\n       'Сімферополь', 'Алчевськ', 'Перечин', 'Мерефа', 'Українськ',\n       'Мирноград', 'Коломия', 'Харцизьк', 'Горохів', 'Севастополь',\n       'Миронівка', 'Зеленодольськ', 'Путивль', 'Жмеринка', 'Покровськ',\n       'Ромни', 'Горлівка', 'Вознесенськ', 'Косів', 'Верхньодніпровськ',\n       'Кілія', 'Василівка ', \"Знам'янка\", 'Амвросіївка', 'Привілля',\n       'Гірське', 'Яворів', 'Комарно', 'Бахчисарай', 'Ладижин',\n       'Мала Виска', 'Ічня', \"Кам'янець-Подільський\", 'Судак ', 'Ялта',\n       'Лутугине', 'Щастя ', 'Городня', 'Бахмач', 'Монастирище',\n       'Немирів', \"Прип'ять \", 'Хрустальний', 'Носівка', 'Городок',\n       'Соледар', 'Кагарлик', 'Тернівка ', 'Винники', 'Олешки', 'Узин',\n       'Красилів', 'Яготин', 'Белз', 'Дебальцеве', 'Глобине',\n       'Петрово-Красносілля', 'Рубіжне', 'Пологи ', 'Жидачів',\n       'Березівка', 'Жовква', 'Білгород-Дністровський', 'Вознесенівка',\n       'Костянтинівка', 'Добропілля', 'Долина ', 'Стрий', 'Авдіївка',\n       'Часів Яр', 'Березань ', 'Святогірськ', 'Гайсин', 'Овруч',\n       'Курахове', 'Алмазна', 'Славутич', 'Острог', 'Житомир',\n       'Перещепине', 'Харків', 'Українка ', 'Семенівка', 'Шахтарськ',\n       'Ровеньки', 'Дунаївці', 'Краматорськ', \"Кам'янське\", 'Миргород',\n       'Глиняни', 'Самбір', 'Малин', \"Зимогір'я\", 'Дубно', 'Луганськ',\n       'Першотравенськ', 'Кіцмань', 'Сарни', 'Турка', 'Славута',\n       'Світловодськ', 'Баранівка', 'Єнакієве', 'Тиврів', 'Інкерман',\n       'Львів', 'Ходорів', 'Борзна', 'Березне', 'Охтирка', 'Гайворон',\n       'Канів', 'Одеса', 'Люботин', 'Луцьк', 'Волноваха', 'Нетішин',\n       'Рахів', 'Хотин', 'Балаклія', 'Южноукраїнськ', 'Феодосія',\n       'Іршава', 'Дубляни', 'Кременець', 'Очаків', 'Теплодар',\n       'Здолбунів', 'Угнів', 'Олександрівськ', 'Тараща', 'Попасна',\n       'Хоростків', 'Броди', 'Рогатин', 'Бердянськ', 'Заставна',\n       'Новоград-Волинський', 'Гадяч', 'Обухів',\n       \"Кам'янка (Черкаська область)\", 'Кропивницький', 'Вовчанськ',\n       'Зугрес', 'Гребінка', 'Борщів', 'Новоукраїнка', 'Кривий Ріг',\n       'Умань', 'Боярка', 'Зміїв', 'Бахмут', 'Благовіщенське', 'Сокаль',\n       'Чорноморськ', 'Рені', 'Бунге ', 'Бібрка', 'Вишгород', 'Козятин',\n       'Суходільськ', 'Буськ', \"Слов'янськ\", 'Ямпіль', 'Нікополь',\n       'Ржищів', 'Ланівці', 'Горішні Плавні', 'Трускавець', 'Донецьк',\n       'Вуглегірськ', 'Пирятин', 'Старий Крим', 'Мостиська', 'Копичинці',\n       'Соснівка ', 'Вараш', 'Хрестівка', 'Снігурівка', 'Торецьк',\n       'Берегове', 'Красногорівка', 'Новогродівка', 'Кадіївка',\n       'Подільськ', 'Судова Вишня', 'Новий Калинів', 'Гуляйполе',\n       'Моспине', 'Генічеськ', 'Чернівці', 'Богуслав', 'Перемишляни',\n       'Вишневе ', 'Прилуки', 'Решетилівка', 'Іллінці', 'Сколе',\n       'Полонне', 'Хуст', 'Могилів-Подільський', 'Гірник ', 'Дружківка',\n       'Географія Вільнянська', 'Ужгород', 'Родинське', 'Хирів',\n       'Любомль', 'Шпола', 'Липовець', 'Бобринець', 'Валки ',\n       'Рава-Руська', 'Гнівань', 'Черкаси', 'Сватове', 'Коростишів',\n       'Вугледар', 'Пустомити', 'Миколаїв', 'Бережани', 'Ватутіне',\n       'Сніжне', 'Баштанка', 'Сокиряни', 'Мелітополь', 'Золоте', 'Мена ',\n       'Вижниця', 'Карлівка', 'Приморськ (Україна)', 'Красноперекопськ',\n       'Золочів', 'Бурштин ', 'Хорол ', 'Сорокине', 'Берислав',\n       'Заліщики', 'Первомайськ', 'Городенка', \"Мар'їнка\", 'Остер ',\n       'Ірміно', 'Молодогвардійськ', 'Сторожинець', 'Вашківці', 'Кипуче',\n       'Рівне', 'Долинська', 'Лубни', 'Маріуполь', 'Татарбунари',\n       'Калинівка ', 'Кодима', 'Радивилів', 'Саки ', 'Чорнобиль',\n       \"Сулимівка (Слов'янськ)\", 'Дрогобич', 'Новоселиця', 'Буча',\n       'Новояворівськ', 'Федорівка', 'Бердичів', 'Старобільськ',\n       'Волочиськ', 'Южне', 'Шостка', 'Бровари', 'Біла Церква', 'Ананьїв',\n       'Новий Розділ', 'Великі Мости', 'Коростень', 'Армянськ',\n       'Бориспіль', 'Підгайці', 'Добромиль', 'Кобеляки', 'Моршин',\n       'Новоазовськ', 'Джанкой', 'Брянка', 'Глухів', 'Бершадь', 'Ізмаїл',\n       'Євпаторія', 'Сєвєродонецьк', 'Міусинськ', 'Чистякове', 'Сміла',\n       'Дубровиця', 'Підгородне', 'Олександрія', 'Чортків',\n       'Хмельницький', 'Антрацит ', 'Докучаєвськ', 'Золотоноша',\n       'Кремінна', 'Погребище', 'Селидове', 'Чуднів', 'Галич',\n       'Христинівка', 'Кролевець', 'Ківерці', 'Бар', 'Середина-Буда',\n       'Богодухів', 'Барвінкове', 'Ізяслав', 'Синельникове', 'Фастів',\n       'Бучач', 'Герца', 'Тульчин', 'Старокостянтинів', 'Білозерське',\n       'Роздільна', 'Скадовськ', 'Київ', 'Берестечко', \"Кам'янка-Бузька\",\n       'Оріхів', 'Боково-Хрустальне', 'Нове Давидково', 'Лисичанськ',\n       'Борислав', 'Тлумач', 'Свалява', 'Камінь-Каширський',\n       \"Кам'янка-Дніпровська\", 'Павлоград', 'Херсон', 'Ізюм', 'Радехів',\n       'Балта', 'Почаїв', 'Вільногірськ', 'Сквира', 'Деражня',\n       'Корсунь-Шевченківський', 'Івано-Франківськ', 'Буринь',\n       'Шепетівка', 'Токмак', 'Світлодарськ', 'Шумськ',\n       'Володимир-Волинський', 'Полтава', 'Устилуг', 'Ворожба',\n       'Верхівцеве', 'Надвірна', 'Нова Каховка', 'Стебник', 'Марганець ',\n       'Червоносів', 'Вінниця', 'Жовті Води', 'Первомайський ', 'Снятин',\n       'Новий Буг', 'Покров', 'Миколаївка ', 'Корюківка', 'Перевальськ',\n       'Красноград', 'Старий Самбір', 'Дергачі', 'Ясинувата', 'Довжанськ',\n       'Новодністровськ', 'Рожище', 'Тисмениця', 'Чугуїв', 'Кременчук',\n       'Вільнянськ', 'Залізне', 'Нововолинськ', 'Біляївка', 'Виноградів',\n       'Васильків', 'Сіверськ', 'Ніжин', 'Білицьке', 'Батурин',\n       'Молочанськ', 'Тернопіль', 'Гола Пристань', 'Городище ',\n       'Дніпрорудне', 'Південне ', 'Алупка', 'Теребовля', \"П'ятихатки\",\n       'Макіївка', 'Монастириська', 'Керч', 'Голубівка', 'Яремче',\n       'Новгород-Сіверський', 'Новодружеськ'], dtype=object)"
     },
     "execution_count": 81,
     "metadata": {},
     "output_type": "execute_result"
    }
   ],
   "source": [
    "df['city'].unique()"
   ],
   "metadata": {
    "collapsed": false,
    "ExecuteTime": {
     "end_time": "2024-02-20T18:35:53.815243Z",
     "start_time": "2024-02-20T18:35:53.809689Z"
    }
   },
   "id": "cb50578fef1e3e1",
   "execution_count": 81
  },
  {
   "cell_type": "code",
   "outputs": [],
   "source": [],
   "metadata": {
    "collapsed": false
   },
   "id": "d04b261eda501d6c"
  },
  {
   "cell_type": "markdown",
   "source": [
    "# 12. How many students have average_mark more than 60?"
   ],
   "metadata": {
    "collapsed": false
   },
   "id": "87d75049b071bc99"
  },
  {
   "cell_type": "code",
   "outputs": [
    {
     "data": {
      "text/plain": "first_name                 403\nlast_name                  403\nbirth_date                 403\naverage_mark               403\ncount_of_lessons_absent    403\ncount_of_lessons_sick      403\ngender                     403\ncity                       403\nage                        403\ndtype: int64"
     },
     "execution_count": 82,
     "metadata": {},
     "output_type": "execute_result"
    }
   ],
   "source": [
    "df[df['average_mark'] >= 60].count()"
   ],
   "metadata": {
    "collapsed": false,
    "ExecuteTime": {
     "end_time": "2024-02-20T18:36:51.648229Z",
     "start_time": "2024-02-20T18:36:51.636773Z"
    }
   },
   "id": "62b19b7005e72f0e",
   "execution_count": 82
  },
  {
   "cell_type": "code",
   "outputs": [
    {
     "data": {
      "text/plain": "(990, 9)"
     },
     "execution_count": 83,
     "metadata": {},
     "output_type": "execute_result"
    }
   ],
   "source": [
    "df.shape"
   ],
   "metadata": {
    "collapsed": false,
    "ExecuteTime": {
     "end_time": "2024-02-20T18:37:05.939835Z",
     "start_time": "2024-02-20T18:37:05.928885Z"
    }
   },
   "id": "443b0d1ddbf17b42",
   "execution_count": 83
  },
  {
   "cell_type": "code",
   "outputs": [],
   "source": [],
   "metadata": {
    "collapsed": false
   },
   "id": "23057a04e4a42e30"
  },
  {
   "cell_type": "markdown",
   "source": [
    "# 14. Generate new dataframe with female students"
   ],
   "metadata": {
    "collapsed": false
   },
   "id": "3da31eab5a291924"
  },
  {
   "cell_type": "code",
   "outputs": [],
   "source": [
    "female_df = df[df['gender'] == 'Female']"
   ],
   "metadata": {
    "collapsed": false,
    "ExecuteTime": {
     "end_time": "2024-02-20T18:37:58.095130Z",
     "start_time": "2024-02-20T18:37:58.083722Z"
    }
   },
   "id": "718e831a6a7749ef",
   "execution_count": 84
  },
  {
   "cell_type": "code",
   "outputs": [
    {
     "data": {
      "text/plain": "    first_name   last_name birth_date  average_mark  count_of_lessons_absent  \\\nid                                                                             \n4       Лариса   Гайдабура 2004-05-05          46.0                        0   \n5       Лариса       Цушко 2008-06-05          82.0                        9   \n6        Аліна   Іванченко 2006-06-09          87.0                        8   \n8        Марта  Демʼяненко 1995-07-18          32.0                        8   \n9       Тетяна   Тарасенко 1998-04-22          89.0                        2   \n..         ...         ...        ...           ...                      ...   \n994     Оксана     Парасюк 1993-03-27          88.0                        6   \n996     Дарина       Тесля 2002-08-30          37.0                        6   \n997     Амалія    Остапчук 2007-04-24          58.0                        2   \n998     Галина      Швайка 2008-08-02          92.0                        8   \n999   Світлана    Корпанюк 2002-04-30          63.0                       10   \n\n     count_of_lessons_sick  gender         city        age  \nid                                                          \n4                        0  Female   Нова Одеса  19.810553  \n5                        4  Female        Рудки  15.722882  \n6                        2  Female  Сімферополь  17.714663  \n8                        8  Female      Перечин  28.616032  \n9                        0  Female       Мерефа  25.851649  \n..                     ...     ...          ...        ...  \n994                      5  Female      Житомир  30.925621  \n996                      5  Female     Бережани  21.492745  \n997                      1  Female     Бурштин   16.840690  \n998                      2  Female     Курахове  15.563978  \n999                      6  Female       Обухів  21.826991  \n\n[475 rows x 9 columns]",
      "text/html": "<div>\n<style scoped>\n    .dataframe tbody tr th:only-of-type {\n        vertical-align: middle;\n    }\n\n    .dataframe tbody tr th {\n        vertical-align: top;\n    }\n\n    .dataframe thead th {\n        text-align: right;\n    }\n</style>\n<table border=\"1\" class=\"dataframe\">\n  <thead>\n    <tr style=\"text-align: right;\">\n      <th></th>\n      <th>first_name</th>\n      <th>last_name</th>\n      <th>birth_date</th>\n      <th>average_mark</th>\n      <th>count_of_lessons_absent</th>\n      <th>count_of_lessons_sick</th>\n      <th>gender</th>\n      <th>city</th>\n      <th>age</th>\n    </tr>\n    <tr>\n      <th>id</th>\n      <th></th>\n      <th></th>\n      <th></th>\n      <th></th>\n      <th></th>\n      <th></th>\n      <th></th>\n      <th></th>\n      <th></th>\n    </tr>\n  </thead>\n  <tbody>\n    <tr>\n      <th>4</th>\n      <td>Лариса</td>\n      <td>Гайдабура</td>\n      <td>2004-05-05</td>\n      <td>46.0</td>\n      <td>0</td>\n      <td>0</td>\n      <td>Female</td>\n      <td>Нова Одеса</td>\n      <td>19.810553</td>\n    </tr>\n    <tr>\n      <th>5</th>\n      <td>Лариса</td>\n      <td>Цушко</td>\n      <td>2008-06-05</td>\n      <td>82.0</td>\n      <td>9</td>\n      <td>4</td>\n      <td>Female</td>\n      <td>Рудки</td>\n      <td>15.722882</td>\n    </tr>\n    <tr>\n      <th>6</th>\n      <td>Аліна</td>\n      <td>Іванченко</td>\n      <td>2006-06-09</td>\n      <td>87.0</td>\n      <td>8</td>\n      <td>2</td>\n      <td>Female</td>\n      <td>Сімферополь</td>\n      <td>17.714663</td>\n    </tr>\n    <tr>\n      <th>8</th>\n      <td>Марта</td>\n      <td>Демʼяненко</td>\n      <td>1995-07-18</td>\n      <td>32.0</td>\n      <td>8</td>\n      <td>8</td>\n      <td>Female</td>\n      <td>Перечин</td>\n      <td>28.616032</td>\n    </tr>\n    <tr>\n      <th>9</th>\n      <td>Тетяна</td>\n      <td>Тарасенко</td>\n      <td>1998-04-22</td>\n      <td>89.0</td>\n      <td>2</td>\n      <td>0</td>\n      <td>Female</td>\n      <td>Мерефа</td>\n      <td>25.851649</td>\n    </tr>\n    <tr>\n      <th>...</th>\n      <td>...</td>\n      <td>...</td>\n      <td>...</td>\n      <td>...</td>\n      <td>...</td>\n      <td>...</td>\n      <td>...</td>\n      <td>...</td>\n      <td>...</td>\n    </tr>\n    <tr>\n      <th>994</th>\n      <td>Оксана</td>\n      <td>Парасюк</td>\n      <td>1993-03-27</td>\n      <td>88.0</td>\n      <td>6</td>\n      <td>5</td>\n      <td>Female</td>\n      <td>Житомир</td>\n      <td>30.925621</td>\n    </tr>\n    <tr>\n      <th>996</th>\n      <td>Дарина</td>\n      <td>Тесля</td>\n      <td>2002-08-30</td>\n      <td>37.0</td>\n      <td>6</td>\n      <td>5</td>\n      <td>Female</td>\n      <td>Бережани</td>\n      <td>21.492745</td>\n    </tr>\n    <tr>\n      <th>997</th>\n      <td>Амалія</td>\n      <td>Остапчук</td>\n      <td>2007-04-24</td>\n      <td>58.0</td>\n      <td>2</td>\n      <td>1</td>\n      <td>Female</td>\n      <td>Бурштин</td>\n      <td>16.840690</td>\n    </tr>\n    <tr>\n      <th>998</th>\n      <td>Галина</td>\n      <td>Швайка</td>\n      <td>2008-08-02</td>\n      <td>92.0</td>\n      <td>8</td>\n      <td>2</td>\n      <td>Female</td>\n      <td>Курахове</td>\n      <td>15.563978</td>\n    </tr>\n    <tr>\n      <th>999</th>\n      <td>Світлана</td>\n      <td>Корпанюк</td>\n      <td>2002-04-30</td>\n      <td>63.0</td>\n      <td>10</td>\n      <td>6</td>\n      <td>Female</td>\n      <td>Обухів</td>\n      <td>21.826991</td>\n    </tr>\n  </tbody>\n</table>\n<p>475 rows × 9 columns</p>\n</div>"
     },
     "execution_count": 85,
     "metadata": {},
     "output_type": "execute_result"
    }
   ],
   "source": [
    "female_df"
   ],
   "metadata": {
    "collapsed": false,
    "ExecuteTime": {
     "end_time": "2024-02-20T18:38:00.838715Z",
     "start_time": "2024-02-20T18:38:00.800356Z"
    }
   },
   "id": "e7e1ea84dd4f5c46",
   "execution_count": 85
  },
  {
   "cell_type": "code",
   "outputs": [],
   "source": [
    "female_df.to_csv('student_female.csv')"
   ],
   "metadata": {
    "collapsed": false,
    "ExecuteTime": {
     "end_time": "2024-02-20T18:38:18.718161Z",
     "start_time": "2024-02-20T18:38:18.703400Z"
    }
   },
   "id": "63dcf20ecacf4aaf",
   "execution_count": 86
  },
  {
   "cell_type": "code",
   "outputs": [],
   "source": [],
   "metadata": {
    "collapsed": false
   },
   "id": "31ac36fd0e7cb62a"
  },
  {
   "cell_type": "markdown",
   "source": [
    "# More file formats"
   ],
   "metadata": {
    "collapsed": false
   },
   "id": "ec33bf219acf8f71"
  },
  {
   "cell_type": "code",
   "outputs": [],
   "source": [
    "import openpyxl\n",
    "df.to_excel('students.xlsx')\n",
    "df.to_json('students.json')\n",
    "df.to_html('students.html')\n",
    "# df.to_sql('students', 'sqlite:///students.db')\n",
    "df.to_xml('students.xml')"
   ],
   "metadata": {
    "collapsed": false,
    "ExecuteTime": {
     "end_time": "2024-02-20T18:42:52.309175Z",
     "start_time": "2024-02-20T18:42:52.059339Z"
    }
   },
   "id": "4cc9043ca05d048f",
   "execution_count": 94
  },
  {
   "cell_type": "code",
   "outputs": [],
   "source": [
    "pd.DataFrame.from_dict({'city': df['city'].unique()}).to_csv('cities.csv')"
   ],
   "metadata": {
    "collapsed": false,
    "ExecuteTime": {
     "end_time": "2024-02-20T18:47:43.927658Z",
     "start_time": "2024-02-20T18:47:43.914787Z"
    }
   },
   "id": "2ce238a0594a7631",
   "execution_count": 103
  },
  {
   "cell_type": "code",
   "outputs": [],
   "source": [],
   "metadata": {
    "collapsed": false,
    "ExecuteTime": {
     "end_time": "2024-02-20T18:46:57.899309Z",
     "start_time": "2024-02-20T18:46:57.886124Z"
    }
   },
   "id": "3bf674dacf488a8f",
   "execution_count": 99
  },
  {
   "cell_type": "code",
   "outputs": [],
   "source": [],
   "metadata": {
    "collapsed": false
   },
   "id": "4a185bb13e304910"
  }
 ],
 "metadata": {
  "kernelspec": {
   "display_name": "Python 3",
   "language": "python",
   "name": "python3"
  },
  "language_info": {
   "codemirror_mode": {
    "name": "ipython",
    "version": 2
   },
   "file_extension": ".py",
   "mimetype": "text/x-python",
   "name": "python",
   "nbconvert_exporter": "python",
   "pygments_lexer": "ipython2",
   "version": "2.7.6"
  }
 },
 "nbformat": 4,
 "nbformat_minor": 5
}
