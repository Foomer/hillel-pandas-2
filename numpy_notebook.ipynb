{
 "cells": [
  {
   "cell_type": "code",
   "execution_count": 1,
   "id": "initial_id",
   "metadata": {
    "collapsed": true,
    "ExecuteTime": {
     "end_time": "2024-02-20T17:26:56.765510Z",
     "start_time": "2024-02-20T17:26:56.686Z"
    }
   },
   "outputs": [],
   "source": [
    "import numpy\n",
    "import numpy as np"
   ]
  },
  {
   "cell_type": "markdown",
   "source": [
    "# 1. Create a 1D array of numbers from 0 to 9"
   ],
   "metadata": {
    "collapsed": false
   },
   "id": "1226ce87cbd6ae83"
  },
  {
   "cell_type": "code",
   "outputs": [
    {
     "name": "stdout",
     "output_type": "stream",
     "text": [
      "[0 1 2 3 4 5 6 7 8 9]\n"
     ]
    }
   ],
   "source": [
    "arr = numpy.arange(10)\n",
    "print(arr)"
   ],
   "metadata": {
    "collapsed": false,
    "ExecuteTime": {
     "end_time": "2024-02-20T17:27:20.204234Z",
     "start_time": "2024-02-20T17:27:20.198640Z"
    }
   },
   "id": "648aa053200b116",
   "execution_count": 3
  },
  {
   "cell_type": "markdown",
   "source": [
    "# 2. Calculate sum of the array"
   ],
   "metadata": {
    "collapsed": false
   },
   "id": "bab5c14c93a25cbd"
  },
  {
   "cell_type": "code",
   "outputs": [
    {
     "name": "stdout",
     "output_type": "stream",
     "text": [
      "45\n"
     ]
    }
   ],
   "source": [
    "print(arr.sum())"
   ],
   "metadata": {
    "collapsed": false,
    "ExecuteTime": {
     "end_time": "2024-02-20T17:27:29.386993Z",
     "start_time": "2024-02-20T17:27:29.383400Z"
    }
   },
   "id": "18678e204f563fd9",
   "execution_count": 4
  },
  {
   "cell_type": "code",
   "outputs": [
    {
     "name": "stdout",
     "output_type": "stream",
     "text": [
      "45\n"
     ]
    }
   ],
   "source": [
    "print(numpy.sum(arr))"
   ],
   "metadata": {
    "collapsed": false,
    "ExecuteTime": {
     "end_time": "2024-02-20T17:27:36.654341Z",
     "start_time": "2024-02-20T17:27:36.647636Z"
    }
   },
   "id": "ae4f00ef79b95a94",
   "execution_count": 5
  },
  {
   "cell_type": "code",
   "outputs": [
    {
     "name": "stdout",
     "output_type": "stream",
     "text": [
      "9\n",
      "0\n",
      "4.5\n",
      "2.8722813232690143\n"
     ]
    }
   ],
   "source": [
    "print(arr.max())\n",
    "print(arr.min())\n",
    "print(arr.mean())\n",
    "print(arr.std())\n"
   ],
   "metadata": {
    "collapsed": false,
    "ExecuteTime": {
     "end_time": "2024-02-20T17:28:34.166640Z",
     "start_time": "2024-02-20T17:28:34.161510Z"
    }
   },
   "id": "c03c0e22dd5bdaa0",
   "execution_count": 6
  },
  {
   "cell_type": "code",
   "outputs": [],
   "source": [],
   "metadata": {
    "collapsed": false
   },
   "id": "d60afd2dcfac45f4"
  },
  {
   "cell_type": "markdown",
   "source": [],
   "metadata": {
    "collapsed": false
   },
   "id": "366e0a1702f469f0"
  },
  {
   "cell_type": "markdown",
   "source": [
    "# 3. Create a different array with random 10 numbers"
   ],
   "metadata": {
    "collapsed": false
   },
   "id": "c8381fbe3dd0e7c"
  },
  {
   "cell_type": "code",
   "outputs": [
    {
     "name": "stdout",
     "output_type": "stream",
     "text": [
      "[0.31693846 0.94522254 0.7670123  0.6227892  0.22252546 0.76788293\n",
      " 0.64312308 0.96165891 0.02387909 0.51081106]\n"
     ]
    }
   ],
   "source": [
    "arr2 = numpy.random.rand(10)\n",
    "print(arr2)"
   ],
   "metadata": {
    "collapsed": false,
    "ExecuteTime": {
     "end_time": "2024-02-20T17:29:23.774109Z",
     "start_time": "2024-02-20T17:29:23.767768Z"
    }
   },
   "id": "37a3b34f4bba1644",
   "execution_count": 8
  },
  {
   "cell_type": "markdown",
   "source": [
    "# 4. Add arr and arr2"
   ],
   "metadata": {
    "collapsed": false
   },
   "id": "792031608be04d6f"
  },
  {
   "cell_type": "code",
   "outputs": [
    {
     "name": "stdout",
     "output_type": "stream",
     "text": [
      "[0.31693846 1.94522254 2.7670123  3.6227892  4.22252546 5.76788293\n",
      " 6.64312308 7.96165891 8.02387909 9.51081106]\n"
     ]
    }
   ],
   "source": [
    "print(arr + arr2)"
   ],
   "metadata": {
    "collapsed": false,
    "ExecuteTime": {
     "end_time": "2024-02-20T17:29:55.023793Z",
     "start_time": "2024-02-20T17:29:55.021903Z"
    }
   },
   "id": "766e29aa403e9bfe",
   "execution_count": 9
  },
  {
   "cell_type": "code",
   "outputs": [],
   "source": [],
   "metadata": {
    "collapsed": false
   },
   "id": "21d20046a9ab1cbc"
  },
  {
   "cell_type": "markdown",
   "source": [
    "# 5. Scalar Product of arr and arr2"
   ],
   "metadata": {
    "collapsed": false
   },
   "id": "75413a69715fa5ec"
  },
  {
   "cell_type": "code",
   "outputs": [
    {
     "name": "stdout",
     "output_type": "stream",
     "text": [
      "24.455814327491346\n"
     ]
    }
   ],
   "source": [
    "print(numpy.dot(arr, arr2))"
   ],
   "metadata": {
    "collapsed": false,
    "ExecuteTime": {
     "end_time": "2024-02-20T17:32:25.815661Z",
     "start_time": "2024-02-20T17:32:25.813900Z"
    }
   },
   "id": "48b4d2599dc58c12",
   "execution_count": 11
  },
  {
   "cell_type": "code",
   "outputs": [
    {
     "name": "stdout",
     "output_type": "stream",
     "text": [
      "24.455814327491346\n"
     ]
    }
   ],
   "source": [
    "print(arr @ arr2)"
   ],
   "metadata": {
    "collapsed": false,
    "ExecuteTime": {
     "end_time": "2024-02-20T17:33:27.404470Z",
     "start_time": "2024-02-20T17:33:27.401805Z"
    }
   },
   "id": "8fb439bb538ae60",
   "execution_count": 12
  },
  {
   "cell_type": "markdown",
   "source": [
    "# dot = a1*b1 + a2*b2 + a3*b3 + a4*b4 + a5*b5 + a6*b6 + a7*b7 + a8*b8 + a9*b9 + a10*b10"
   ],
   "metadata": {
    "collapsed": false
   },
   "id": "348ec2b8ec86ce67"
  },
  {
   "cell_type": "markdown",
   "source": [
    "# 6. Generate array with zeros"
   ],
   "metadata": {
    "collapsed": false
   },
   "id": "d3840d6947d65a7a"
  },
  {
   "cell_type": "code",
   "outputs": [
    {
     "name": "stdout",
     "output_type": "stream",
     "text": [
      "[0. 0. 0. 0. 0. 0. 0. 0. 0. 0.]\n"
     ]
    }
   ],
   "source": [
    "arr3 = numpy.zeros(10)\n",
    "print(arr3)"
   ],
   "metadata": {
    "collapsed": false,
    "ExecuteTime": {
     "end_time": "2024-02-20T17:35:03.059798Z",
     "start_time": "2024-02-20T17:35:03.053832Z"
    }
   },
   "id": "9daa7fbeb8d38d9d",
   "execution_count": 13
  },
  {
   "cell_type": "code",
   "outputs": [
    {
     "name": "stdout",
     "output_type": "stream",
     "text": [
      "[[0. 0. 0.]\n",
      " [0. 0. 0.]\n",
      " [0. 0. 0.]]\n"
     ]
    }
   ],
   "source": [
    "arr4 = numpy.zeros((3, 3))\n",
    "print(arr4)"
   ],
   "metadata": {
    "collapsed": false,
    "ExecuteTime": {
     "end_time": "2024-02-20T17:35:15.166793Z",
     "start_time": "2024-02-20T17:35:15.163946Z"
    }
   },
   "id": "5e2dd78583dcc83b",
   "execution_count": 14
  },
  {
   "cell_type": "code",
   "outputs": [],
   "source": [],
   "metadata": {
    "collapsed": false
   },
   "id": "4e28f0a8196271b7"
  },
  {
   "cell_type": "markdown",
   "source": [
    "# 7. Generate matrix"
   ],
   "metadata": {
    "collapsed": false
   },
   "id": "998ba7649438f566"
  },
  {
   "cell_type": "code",
   "outputs": [
    {
     "name": "stdout",
     "output_type": "stream",
     "text": [
      "[[0.18027331 0.36246097 0.98646054]\n",
      " [0.77836924 0.26897515 0.54933282]\n",
      " [0.13804065 0.22421617 0.39191315]]\n"
     ]
    }
   ],
   "source": [
    "matrix1 = numpy.random.rand(3, 3)\n",
    "print(matrix1)"
   ],
   "metadata": {
    "collapsed": false,
    "ExecuteTime": {
     "end_time": "2024-02-20T17:36:56.139701Z",
     "start_time": "2024-02-20T17:36:56.137268Z"
    }
   },
   "id": "1c35cd15bc55a40a",
   "execution_count": 19
  },
  {
   "cell_type": "code",
   "outputs": [],
   "source": [],
   "metadata": {
    "collapsed": false
   },
   "id": "18ef3163dbe1eddc"
  },
  {
   "cell_type": "markdown",
   "source": [
    "# 8. Generate matrix with ones on the diagonal"
   ],
   "metadata": {
    "collapsed": false
   },
   "id": "d8225ad7724ac127"
  },
  {
   "cell_type": "code",
   "outputs": [
    {
     "name": "stdout",
     "output_type": "stream",
     "text": [
      "[[1. 0. 0.]\n",
      " [0. 1. 0.]\n",
      " [0. 0. 1.]]\n"
     ]
    }
   ],
   "source": [
    "matrix2 = numpy.eye(3)\n",
    "print(matrix2)"
   ],
   "metadata": {
    "collapsed": false,
    "ExecuteTime": {
     "end_time": "2024-02-20T17:36:34.536942Z",
     "start_time": "2024-02-20T17:36:34.534463Z"
    }
   },
   "id": "4db7bdd4a0fa1f9f",
   "execution_count": 17
  },
  {
   "cell_type": "code",
   "outputs": [],
   "source": [],
   "metadata": {
    "collapsed": false
   },
   "id": "d4058bf6a8e5c2b7"
  },
  {
   "cell_type": "markdown",
   "source": [
    "# 9. Transpose matrix"
   ],
   "metadata": {
    "collapsed": false
   },
   "id": "736b8efab54bc360"
  },
  {
   "cell_type": "code",
   "outputs": [
    {
     "name": "stdout",
     "output_type": "stream",
     "text": [
      "[[0.18027331 0.77836924 0.13804065]\n",
      " [0.36246097 0.26897515 0.22421617]\n",
      " [0.98646054 0.54933282 0.39191315]]\n"
     ]
    }
   ],
   "source": [
    "print(matrix1.T)"
   ],
   "metadata": {
    "collapsed": false,
    "ExecuteTime": {
     "end_time": "2024-02-20T17:36:59.460614Z",
     "start_time": "2024-02-20T17:36:59.458357Z"
    }
   },
   "id": "6a95c8820a889176",
   "execution_count": 20
  },
  {
   "cell_type": "code",
   "outputs": [],
   "source": [],
   "metadata": {
    "collapsed": false
   },
   "id": "739df3887d19cb1"
  },
  {
   "cell_type": "code",
   "outputs": [],
   "source": [],
   "metadata": {
    "collapsed": false
   },
   "id": "3dea2c972f1dbea8"
  },
  {
   "cell_type": "markdown",
   "source": [
    "# 10. Add matrixes"
   ],
   "metadata": {
    "collapsed": false
   },
   "id": "449fd97cde9f80aa"
  },
  {
   "cell_type": "code",
   "outputs": [
    {
     "name": "stdout",
     "output_type": "stream",
     "text": [
      "[[1.18027331 0.36246097 0.98646054]\n",
      " [0.77836924 1.26897515 0.54933282]\n",
      " [0.13804065 0.22421617 1.39191315]]\n"
     ]
    }
   ],
   "source": [
    "print(matrix1 + matrix2)"
   ],
   "metadata": {
    "collapsed": false,
    "ExecuteTime": {
     "end_time": "2024-02-20T17:37:40.287756Z",
     "start_time": "2024-02-20T17:37:40.278962Z"
    }
   },
   "id": "3b91b9e78dc9f102",
   "execution_count": 21
  },
  {
   "cell_type": "code",
   "outputs": [],
   "source": [],
   "metadata": {
    "collapsed": false
   },
   "id": "dd3d7df9b5aae719"
  },
  {
   "cell_type": "markdown",
   "source": [
    "# 11. Multiply matrixes"
   ],
   "metadata": {
    "collapsed": false
   },
   "id": "2968ad17f85831d0"
  },
  {
   "cell_type": "code",
   "outputs": [
    {
     "name": "stdout",
     "output_type": "stream",
     "text": [
      "[[0.18027331 0.36246097 0.98646054]\n",
      " [0.77836924 0.26897515 0.54933282]\n",
      " [0.13804065 0.22421617 0.39191315]]\n"
     ]
    }
   ],
   "source": [
    "print(matrix1 @ matrix2)"
   ],
   "metadata": {
    "collapsed": false,
    "ExecuteTime": {
     "end_time": "2024-02-20T17:38:11.456215Z",
     "start_time": "2024-02-20T17:38:11.443491Z"
    }
   },
   "id": "866da50ef7be1a17",
   "execution_count": 22
  },
  {
   "cell_type": "code",
   "outputs": [],
   "source": [],
   "metadata": {
    "collapsed": false
   },
   "id": "a408220137153da8"
  },
  {
   "cell_type": "markdown",
   "source": [
    "# 12. Find matrix determinant"
   ],
   "metadata": {
    "collapsed": false
   },
   "id": "421fd0202b18648"
  },
  {
   "cell_type": "code",
   "outputs": [
    {
     "name": "stdout",
     "output_type": "stream",
     "text": [
      "0.049248242105876236\n"
     ]
    }
   ],
   "source": [
    "print(numpy.linalg.det(matrix1))"
   ],
   "metadata": {
    "collapsed": false,
    "ExecuteTime": {
     "end_time": "2024-02-20T17:38:51.322292Z",
     "start_time": "2024-02-20T17:38:51.317088Z"
    }
   },
   "id": "ab5abfaba39c6e14",
   "execution_count": 23
  },
  {
   "cell_type": "code",
   "outputs": [
    {
     "name": "stdout",
     "output_type": "stream",
     "text": [
      "1.0\n"
     ]
    }
   ],
   "source": [
    "print(numpy.linalg.det(matrix2))"
   ],
   "metadata": {
    "collapsed": false,
    "ExecuteTime": {
     "end_time": "2024-02-20T17:38:59.801758Z",
     "start_time": "2024-02-20T17:38:59.795911Z"
    }
   },
   "id": "1170711ef57ae50f",
   "execution_count": 24
  },
  {
   "cell_type": "code",
   "outputs": [],
   "source": [
    "# 13. Find matrix inverse"
   ],
   "metadata": {
    "collapsed": false
   },
   "id": "cc161ba204f75326"
  },
  {
   "cell_type": "code",
   "outputs": [],
   "source": [
    "inversed = numpy.linalg.inv(matrix1)"
   ],
   "metadata": {
    "collapsed": false,
    "ExecuteTime": {
     "end_time": "2024-02-20T17:39:19.977219Z",
     "start_time": "2024-02-20T17:39:19.966719Z"
    }
   },
   "id": "dc102033dec125bf",
   "execution_count": 25
  },
  {
   "cell_type": "code",
   "outputs": [
    {
     "name": "stdout",
     "output_type": "stream",
     "text": [
      "[[-0.36050842  1.60670077 -1.34465031]\n",
      " [-4.65443775 -1.33040635 13.5801901 ]\n",
      " [ 2.78981466  0.19521826 -4.74411712]]\n"
     ]
    }
   ],
   "source": [
    "print(inversed)"
   ],
   "metadata": {
    "collapsed": false,
    "ExecuteTime": {
     "end_time": "2024-02-20T17:39:26.895299Z",
     "start_time": "2024-02-20T17:39:26.891812Z"
    }
   },
   "id": "e5a0df30d6d0ba55",
   "execution_count": 26
  },
  {
   "cell_type": "code",
   "outputs": [
    {
     "name": "stdout",
     "output_type": "stream",
     "text": [
      "[[ 1.00000000e+00 -4.35242927e-18 -5.63464834e-16]\n",
      " [-1.59930441e-18  1.00000000e+00  2.01757727e-16]\n",
      " [-1.13288436e-16 -1.59478244e-17  1.00000000e+00]]\n"
     ]
    }
   ],
   "source": [
    "print(matrix1 @ inversed)"
   ],
   "metadata": {
    "collapsed": false,
    "ExecuteTime": {
     "end_time": "2024-02-20T17:39:35.415378Z",
     "start_time": "2024-02-20T17:39:35.407804Z"
    }
   },
   "id": "f7db4d0dfd9dd88e",
   "execution_count": 27
  },
  {
   "cell_type": "code",
   "outputs": [],
   "source": [],
   "metadata": {
    "collapsed": false
   },
   "id": "6c1a16fe56573949"
  },
  {
   "cell_type": "markdown",
   "source": [
    "# 14. Solve linear system"
   ],
   "metadata": {
    "collapsed": false
   },
   "id": "70fe4402ec189fbc"
  },
  {
   "cell_type": "markdown",
   "source": [
    "# 3x + 2y = 1\n",
    "# 4x + 5y = 2"
   ],
   "metadata": {
    "collapsed": false
   },
   "id": "d9179e26be09f853"
  },
  {
   "cell_type": "code",
   "outputs": [],
   "source": [
    "A = numpy.array([[3, 2], [4, 5]])\n",
    "B = numpy.array([1, 2])"
   ],
   "metadata": {
    "collapsed": false,
    "ExecuteTime": {
     "end_time": "2024-02-20T17:41:04.372506Z",
     "start_time": "2024-02-20T17:41:04.369809Z"
    }
   },
   "id": "d489f57fd7f62a57",
   "execution_count": 28
  },
  {
   "cell_type": "code",
   "outputs": [
    {
     "name": "stdout",
     "output_type": "stream",
     "text": [
      "[0.14285714 0.28571429]\n"
     ]
    }
   ],
   "source": [
    "print(numpy.linalg.solve(A, B))"
   ],
   "metadata": {
    "collapsed": false,
    "ExecuteTime": {
     "end_time": "2024-02-20T17:41:05.469445Z",
     "start_time": "2024-02-20T17:41:05.460315Z"
    }
   },
   "id": "b4d0d7115aaf24fa",
   "execution_count": 29
  },
  {
   "cell_type": "code",
   "outputs": [],
   "source": [],
   "metadata": {
    "collapsed": false
   },
   "id": "705adab989490ccf"
  },
  {
   "cell_type": "markdown",
   "source": [
    "# 15. Solve quadratic equation"
   ],
   "metadata": {
    "collapsed": false
   },
   "id": "2331cee0f497e3a2"
  },
  {
   "cell_type": "markdown",
   "source": [
    "# x^2 - 4x + 3 = 0"
   ],
   "metadata": {
    "collapsed": false
   },
   "id": "9ca60904e42f2e78"
  },
  {
   "cell_type": "code",
   "outputs": [
    {
     "name": "stdout",
     "output_type": "stream",
     "text": [
      "[3. 1.]\n"
     ]
    }
   ],
   "source": [
    "print(numpy.roots([1, -4, 3]))"
   ],
   "metadata": {
    "collapsed": false,
    "ExecuteTime": {
     "end_time": "2024-02-20T17:44:26.027991Z",
     "start_time": "2024-02-20T17:44:26.012195Z"
    }
   },
   "id": "3e36ef9cf8faba69",
   "execution_count": 30
  },
  {
   "cell_type": "code",
   "outputs": [
    {
     "name": "stdout",
     "output_type": "stream",
     "text": [
      "[-2.80630072+0.j          0.90315036+0.50333133j  0.90315036-0.50333133j]\n"
     ]
    }
   ],
   "source": [
    "print(numpy.roots([1, 1, -4, 3]))"
   ],
   "metadata": {
    "collapsed": false,
    "ExecuteTime": {
     "end_time": "2024-02-20T17:44:54.751619Z",
     "start_time": "2024-02-20T17:44:54.748542Z"
    }
   },
   "id": "9f2c42d06e0b43a0",
   "execution_count": 31
  },
  {
   "cell_type": "markdown",
   "source": [
    "# 16. Find eigenvalues and eigenvectors"
   ],
   "metadata": {
    "collapsed": false
   },
   "id": "5e303bd5e14746ca"
  },
  {
   "cell_type": "code",
   "outputs": [],
   "source": [
    "eigenvalues, eigenvectors = numpy.linalg.eig(matrix1)"
   ],
   "metadata": {
    "collapsed": false,
    "ExecuteTime": {
     "end_time": "2024-02-20T17:45:49.867034Z",
     "start_time": "2024-02-20T17:45:49.851767Z"
    }
   },
   "id": "625b8550e5539c8b",
   "execution_count": 32
  },
  {
   "cell_type": "code",
   "outputs": [
    {
     "name": "stdout",
     "output_type": "stream",
     "text": [
      "[ 1.15305158+0.j         -0.15594499+0.13561852j -0.15594499-0.13561852j]\n"
     ]
    }
   ],
   "source": [
    "print(eigenvalues)"
   ],
   "metadata": {
    "collapsed": false,
    "ExecuteTime": {
     "end_time": "2024-02-20T17:45:56.146992Z",
     "start_time": "2024-02-20T17:45:56.141626Z"
    }
   },
   "id": "e52885986c5dc07b",
   "execution_count": 33
  },
  {
   "cell_type": "code",
   "outputs": [],
   "source": [],
   "metadata": {
    "collapsed": false
   },
   "id": "92ad0d29fa9d55fc"
  },
  {
   "cell_type": "markdown",
   "source": [
    "# Власні числа (Eigenvalues)\n",
    "Власне число матриці \n",
    "�\n",
    "A - це скаляр \n",
    "�\n",
    "λ, який задовольняє рівняння \n",
    "�\n",
    "�\n",
    "=\n",
    "�\n",
    "�\n",
    "Av=λv, де \n",
    "�\n",
    "v - це ненульовий вектор. Іншими словами, коли матриця \n",
    "�\n",
    "A діє на вектор \n",
    "�\n",
    "v, результатом є масштабований вектор, який є паралельним до \n",
    "�\n",
    "v, і \n",
    "�\n",
    "λ є масштабувальним фактором.\n",
    "\n",
    "Власні вектори (Eigenvectors)\n",
    "Власний вектор \n",
    "�\n",
    "v матриці \n",
    "�\n",
    "A - це ненульовий вектор, який, коли множиться на матрицю \n",
    "�\n",
    "A, просто масштабується на власне число \n",
    "�\n",
    "λ, тобто \n",
    "�\n",
    "�\n",
    "=\n",
    "�\n",
    "�\n",
    "Av=λv. Власні вектори вказують напрямки, в яких застосування матриці \n",
    "�\n",
    "A просто \"витягує\" або \"стискає\" вектор, замість того, щоб змінити його напрямок."
   ],
   "metadata": {
    "collapsed": false
   },
   "id": "60d1c7b59b875918"
  },
  {
   "cell_type": "code",
   "outputs": [],
   "source": [
    "array = numpy.array([[1, 2, 3, 4]])"
   ],
   "metadata": {
    "collapsed": false,
    "ExecuteTime": {
     "end_time": "2024-02-20T17:47:57.293616Z",
     "start_time": "2024-02-20T17:47:57.278383Z"
    }
   },
   "id": "3b5664d3995a8e67",
   "execution_count": 35
  },
  {
   "cell_type": "markdown",
   "source": [
    "# 17. Filter values which is more that 2"
   ],
   "metadata": {
    "collapsed": false
   },
   "id": "465754c3a500d800"
  },
  {
   "cell_type": "code",
   "outputs": [
    {
     "name": "stdout",
     "output_type": "stream",
     "text": [
      "[3 4]\n"
     ]
    }
   ],
   "source": [
    "print(array[array > 2])"
   ],
   "metadata": {
    "collapsed": false,
    "ExecuteTime": {
     "end_time": "2024-02-20T17:47:58.484124Z",
     "start_time": "2024-02-20T17:47:58.479935Z"
    }
   },
   "id": "9591d04aece21754",
   "execution_count": 36
  },
  {
   "cell_type": "code",
   "outputs": [],
   "source": [
    "# 18. Find index of max value"
   ],
   "metadata": {
    "collapsed": false,
    "ExecuteTime": {
     "end_time": "2024-02-20T17:48:16.126100Z",
     "start_time": "2024-02-20T17:48:16.116145Z"
    }
   },
   "id": "585a03124208141d",
   "execution_count": 37
  },
  {
   "cell_type": "code",
   "outputs": [
    {
     "name": "stdout",
     "output_type": "stream",
     "text": [
      "3\n"
     ]
    }
   ],
   "source": [
    "print(numpy.argmax(array))"
   ],
   "metadata": {
    "collapsed": false,
    "ExecuteTime": {
     "end_time": "2024-02-20T17:48:19.257749Z",
     "start_time": "2024-02-20T17:48:19.241750Z"
    }
   },
   "id": "1b5f3fb1d3a520e1",
   "execution_count": 38
  },
  {
   "cell_type": "code",
   "outputs": [],
   "source": [],
   "metadata": {
    "collapsed": false
   },
   "id": "e65749397c5425f8"
  }
 ],
 "metadata": {
  "kernelspec": {
   "display_name": "Python 3",
   "language": "python",
   "name": "python3"
  },
  "language_info": {
   "codemirror_mode": {
    "name": "ipython",
    "version": 2
   },
   "file_extension": ".py",
   "mimetype": "text/x-python",
   "name": "python",
   "nbconvert_exporter": "python",
   "pygments_lexer": "ipython2",
   "version": "2.7.6"
  }
 },
 "nbformat": 4,
 "nbformat_minor": 5
}
